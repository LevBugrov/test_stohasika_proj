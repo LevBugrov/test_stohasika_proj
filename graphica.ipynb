{
 "cells": [
  {
   "cell_type": "code",
   "execution_count": 28,
   "metadata": {},
   "outputs": [],
   "source": [
    "import queue_ as qu\n",
    "import pandas as pd\n",
    "import numpy as np\n",
    "import matplotlib as plt\n",
    "import random as rm"
   ]
  },
  {
   "cell_type": "markdown",
   "metadata": {},
   "source": [
    "\n",
    "## Эксперименты с различными параметрами\n",
    "\n",
    "#### В ходе экспериментов будем вычислять следующие метрики:\n",
    "\n",
    "    1) Среднее время пребывания требования в системе\n",
    "    2) Вероятность ожидания (требование пришло, а очередь непустая)\n",
    "    3) Среднее количество заявок в очереди\n",
    "    4) Вероятность простоя системы (оба сервера свободны и очередь пустая)\n",
    "\n"
   ]
  },
  {
   "cell_type": "code",
   "execution_count": 29,
   "metadata": {},
   "outputs": [],
   "source": [
    "def count_metrics(size_metrics, u_metrics, lam_metrics):\n",
    "    queue = qu.Queue(seed=rm.randint(0, 10 ** 5), lam=lam_metrics, u=u_metrics, size=size_metrics)\n",
    "    metrics = pd.DataFrame(columns=['Average time in the system',\n",
    "                    'Probability of waiting',\n",
    "                    'Average count of customers in the system',\n",
    "                    '------------------'])\n",
    "\n",
    "    metrics['Average time in the system'] = [i[2] - i[0] for i in queue.client_schedule]\n",
    "    client_was_waiting = []\n",
    "    truhnie = 0\n",
    "    for i in range(len(queue.client_schedule)):\n",
    "        if queue.client_schedule[i][1]-queue.client_schedule[i][0]:\n",
    "            truhnie += 1\n",
    "        client_was_waiting.append(truhnie/(i+1))\n",
    "    metrics['Probability of waiting'] = client_was_waiting\n",
    "    \n",
    "    metrics['Average count of customers in the system'] = [queue._a(i[0]) for i in queue.client_schedule]\n",
    "    people_num = [queue._a(i[0]) for i in queue.client_schedule]\n",
    "    metrics['Average count of customers in the system'] = [sum(people_num[:i+1])/(i+1) for i in range(len(people_num))]\n",
    "\n",
    "    return metrics"
   ]
  },
  {
   "cell_type": "code",
   "execution_count": 30,
   "metadata": {},
   "outputs": [],
   "source": [
    "def draw_metrics(param_name, size_metrics, u_metrics, lam_metrics):\n",
    "\n",
    "    x = np.linspace(0, 9.9, 100)\n",
    "    y = 0\n",
    "    '''plt.figure(figsize=(15,15))\n",
    "    plt.suptitle(f'Метрики в зависимости от параметра {param_name}')\n",
    "\n",
    "    i = 0\n",
    "\n",
    "    for metric_name, values in test_metrics.items():\n",
    "        plt.subplot(321+i)   \n",
    "        plt.plot(params, values, 'o-')\n",
    "        plt.title(metrics_titles[i])\n",
    "        plt.xlabel(param_name)\n",
    "        plt.ylabel(metric_name)\n",
    "        plt.tight_layout()\n",
    "        plt.grid()\n",
    "        i += 1\n",
    "\n",
    "    plt.show()'''"
   ]
  },
  {
   "cell_type": "code",
   "execution_count": null,
   "metadata": {},
   "outputs": [],
   "source": [
    "print(count_metrics())"
   ]
  },
  {
   "cell_type": "markdown",
   "metadata": {},
   "source": [
    "# xtnj\n"
   ]
  },
  {
   "cell_type": "code",
   "execution_count": 33,
   "metadata": {},
   "outputs": [
    {
     "data": {
      "text/plain": [
       "[0    0.298401\n",
       " 1    0.814284\n",
       " 2    0.219713\n",
       " 3    1.690432\n",
       " Name: Average time in the system, dtype: float64]"
      ]
     },
     "execution_count": 33,
     "metadata": {},
     "output_type": "execute_result"
    }
   ],
   "source": [
    "x = np.linspace(0.1, 9.9, 99)\n",
    "y = count_metrics(size_metrics=5, u_metrics=2, lam_metrics = x[0])\n",
    "y = [y['Average time in the system']]\n",
    "y\n",
    "\n"
   ]
  },
  {
   "cell_type": "code",
   "execution_count": null,
   "metadata": {},
   "outputs": [],
   "source": []
  },
  {
   "cell_type": "code",
   "execution_count": null,
   "metadata": {},
   "outputs": [],
   "source": []
  },
  {
   "cell_type": "code",
   "execution_count": null,
   "metadata": {},
   "outputs": [],
   "source": []
  }
 ],
 "metadata": {
  "interpreter": {
   "hash": "074a1b6a19f563d881b536f170adee2ef4b591819dd9d36da8e992742a059d42"
  },
  "kernelspec": {
   "display_name": "Python 3.10.1 ('venv': venv)",
   "language": "python",
   "name": "python3"
  },
  "language_info": {
   "codemirror_mode": {
    "name": "ipython",
    "version": 3
   },
   "file_extension": ".py",
   "mimetype": "text/x-python",
   "name": "python",
   "nbconvert_exporter": "python",
   "pygments_lexer": "ipython3",
   "version": "3.10.1"
  },
  "orig_nbformat": 4
 },
 "nbformat": 4,
 "nbformat_minor": 2
}
